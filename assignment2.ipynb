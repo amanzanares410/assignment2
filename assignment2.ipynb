{
  "cells": [
    {
      "cell_type": "markdown",
      "id": "13ad028b-72b7-43ed-aa78-96fd4e518040",
      "metadata": {
        "id": "13ad028b-72b7-43ed-aa78-96fd4e518040"
      },
      "source": [
        "# Assignment: Data Wrangling and Exploratory Data Analysis\n",
        "## Do Q1 and Q2, and one other question.\n",
        "`! git clone https://www.github.com/DS3001/assignment2`"
      ]
    },
    {
      "cell_type": "markdown",
      "source": [],
      "metadata": {
        "id": "-qTWDhIC9kZ1"
      },
      "id": "-qTWDhIC9kZ1"
    },
    {
      "cell_type": "code",
      "source": [
        "! git clone https://www.github.com/DS3001/assignment2"
      ],
      "metadata": {
        "id": "fpZMZXBIpY59",
        "outputId": "06cb9b04-8d96-4010-e676-f733556f4abd",
        "colab": {
          "base_uri": "https://localhost:8080/"
        }
      },
      "id": "fpZMZXBIpY59",
      "execution_count": 2,
      "outputs": [
        {
          "output_type": "stream",
          "name": "stdout",
          "text": [
            "Cloning into 'assignment2'...\n",
            "warning: redirecting to https://github.com/DS3001/assignment2.git/\n",
            "remote: Enumerating objects: 36, done.\u001b[K\n",
            "remote: Counting objects: 100% (12/12), done.\u001b[K\n",
            "remote: Compressing objects: 100% (7/7), done.\u001b[K\n",
            "remote: Total 36 (delta 8), reused 5 (delta 5), pack-reused 24\u001b[K\n",
            "Receiving objects: 100% (36/36), 5.47 MiB | 12.04 MiB/s, done.\n",
            "Resolving deltas: 100% (9/9), done.\n"
          ]
        }
      ]
    },
    {
      "cell_type": "markdown",
      "id": "5735a4d4-8be8-433a-a351-70eb8002e632",
      "metadata": {
        "id": "5735a4d4-8be8-433a-a351-70eb8002e632"
      },
      "source": [
        "**Q1.** Open the \"tidy_data.pdf\" document in the repo, which is a paper called Tidy Data by Hadley Wickham.\n",
        "\n",
        "  1. Read the abstract. What is this paper about?\n",
        "  \n",
        "    **This paper is about the concept of data tidying. It defines a framework for tidy data and addresses why tidy datasets are important. Additionally, the paper will provide a case study to demonstrate the benefits of the framework.**\n",
        "\n",
        "  2. Read the introduction. What is the \"tidy data standard\" intended to accomplish?\n",
        "\n",
        "    **The \"tidy data standard\" was created to help make analyzing data more efficient. With the tidy data standard the process of creating data analysis tools is simplified. This enables the analyst to focus on the actaul problem at hand instead of worrying about how the data is organized.**\n",
        "\n",
        "  3. Read the intro to section 2. What\n",
        "   does this sentence mean: \"Like families, tidy datasets are all alike but every messy dataset is messy in its own way.\" What does this sentence mean: \"For a given dataset, it’s usually easy to figure out what are observations and what are variables, but it is surprisingly difficult to precisely define variables and observations in general.\"\n",
        "\n",
        "    **The first sentence means that tidy datasets share a common structure, the way it links its physical layout with its semantics, which is much like how families have a common organization. Messy datasets can be messy in a variety of ways and could require different tecniques to make them tidy, similar to how families have their unique dynamics. The second sentence means that when looking at a specific dataset it is often easy to identify the units (observations) and tha characteristics/attributes of those units (variables), but defining what constitutes a variable or observation acorss all datasets is more difficult because there are so many different types of data and contexts.**\n",
        "\n",
        "  4. Read Section 2.2. How does Wickham define values, variables, and observations?\n",
        "\n",
        "    **Values are defined as the individual pieces of informaiton that are collected. Variables and observations are how the values are organized. Variables organize values by their underlying attributes and are across units. Observations are all the values for the same unit.**\n",
        "\n",
        "  5. How is \"Tidy Data\" defined in section 2.3?\n",
        "\n",
        "    **Tidy data is defined in terms of values, variables, and observations. In a tidy dataset, columns are formed by variables, rows are formed by observations, and each type of observational unit forms a table.**\n",
        "\n",
        "  6. Read the intro to Section 3 and Section 3.1. What are the 5 most common problems with messy datasets? Why are the data in Table 4 messy? What is \"melting\" a dataset?\n",
        "\n",
        "    **The 5 most common problems with messy datsets are: values as column headers instead of variables names, including multiple variables within a single column, storing variables in both rows and columns, including various types of observational units within a single table, and storing a single observational unit across multiple tables. The data in Table 4 is messy because the column headers are values instead of variable names. In Table 4, variables also form both the rows and columns instead of the rows being formed by observations. Melting a dataset is a process used to tidy datasets. It is when the columns are turned into rows. To accomplish this a specific list of columns that are already variables is specified and the remaining columns are transformed into two new variables called column and value. The column variable contains the repeated column headers and the value variable contains the data values that were originially stored in separate columns.**\n",
        "\n",
        "  7. Why, specifically, is table 11 messy but table 12 tidy and \"molten\"?\n",
        "\n",
        "    **Table 11 is messy because variables are stored in both the rows and columns. Tmax and tmin should both be variables for this dataset but are instead listed as values. The dates should also be values but in Table 11, the days of the month are used as column headers instead of using variable names as column headers. Table 12 is tidy and molten because each rows represents the measures for a single day (one unit) and the measured varibles have been converted into columns.**\n",
        "\n",
        "  8. Read Section 6. What is the \"chicken-and-egg\" problem with focusing on tidy data? What does Wickham hope happens in the future with further work on the subject of data wrangling?\n",
        "\n",
        "    **The chicken and egg problem with tidy data stems from the interdependnecy between tidy data and the tools designed to work with it. The usefullness of tidy data is dependent upon the availability of tools that can work with it. But the development of tidy tools  requires tidy data. This creates the chicken and egg situations which could lead to improvements being constrained. Wickham hopes that in the furure both statistical and congnitive factors are considered when designing tools. He hopes that a better understanding of the conginitive side of data analysis will lead to improved tools in the future.**\n",
        "\n"
      ]
    },
    {
      "cell_type": "markdown",
      "id": "da879ea7-8aac-48a3-b6c2-daea56d2e072",
      "metadata": {
        "id": "da879ea7-8aac-48a3-b6c2-daea56d2e072"
      },
      "source": [
        "**Q2.** This question provides some practice cleaning variables which have common problems.\n",
        "1. Numeric variable: For `./data/airbnb_hw.csv`, clean the `Price` variable as well as you can, and explain the choices you make. How many missing values do you end up with? (Hint: What happens to the formatting when a price goes over 999 dollars, say from 675 to 1,112?)\n",
        "\n",
        "  **To clean the 'Price' variable I started by removing any ',' so that values above 999 would be preserved. I also removed any '$' in case they were accidentally included. I then coerced the values to make the 'Price' variable a numeric data type and convert any non-numeric values to NaN. I then created a missing value dummy variable so that I could count how many missing values there are in the data. Lastly, I imputed a 0 wherever there is a missing value in the 'Price' variable.**\n",
        "\n",
        "  **I ended up with 0 missing values.**"
      ]
    },
    {
      "cell_type": "code",
      "source": [
        "import pandas as pd\n",
        "\n",
        "df = pd.read_csv('./assignment2/data/airbnb_hw.csv', low_memory=False)\n",
        "\n",
        "df['Price'] = df['Price'].str.replace(',','')\n",
        "df['Price'] = df['Price'].str.replace('$','')\n",
        "\n",
        "df['Price'] = pd.to_numeric(df['Price'])\n",
        "\n",
        "df['Price_nan'] = df['Price'].isnull();\n",
        "df['Price'].fillna(0)\n",
        "\n",
        "print('Total Missings: \\n', sum(df['Price_nan']),'\\n')"
      ],
      "metadata": {
        "id": "B02opemnlJdc"
      },
      "id": "B02opemnlJdc",
      "execution_count": null,
      "outputs": []
    },
    {
      "cell_type": "markdown",
      "metadata": {
        "id": "z20MI8CIlKPK"
      },
      "source": [
        "2. Categorical variable: For the `./data/sharks.csv` data covered in the lecture, clean the \"Type\" variable as well as you can, and explain the choices you make."
      ],
      "id": "z20MI8CIlKPK"
    },
    {
      "cell_type": "code",
      "source": [
        "import pandas as pd\n",
        "\n",
        "df = pd.read_csv('./assignment2/data/sharks.csv', low_memory=False)\n",
        "\n"
      ],
      "metadata": {
        "id": "k6JAeD0FlIji"
      },
      "id": "k6JAeD0FlIji",
      "execution_count": 11,
      "outputs": []
    },
    {
      "cell_type": "markdown",
      "metadata": {
        "id": "1YdsntW2yAsA"
      },
      "source": [
        "3. Dummy variable: For the pretrial data covered in the lecture, clean the `WhetherDefendantWasReleasedPretrial` variable as well as you can, and, in particular, replace missing values with `np.nan`.\n",
        "4. Missing values, not at random: For the pretrial data covered in the lecture, clean the `ImposedSentenceAllChargeInContactEvent` variable as well as you can, and explain the choices you make. (Hint: Look at the `SentenceTypeAllChargesAtConvictionInContactEvent` variable.)"
      ],
      "id": "1YdsntW2yAsA"
    },
    {
      "cell_type": "markdown",
      "id": "c11bcd96-2834-41a4-80fe-d354b4277fd9",
      "metadata": {
        "id": "c11bcd96-2834-41a4-80fe-d354b4277fd9"
      },
      "source": [
        "**Q3.** This question provides some practice doing exploratory data analysis and visualization.\n",
        "\n",
        "The \"relevant\" variables for this question are:\n",
        "  - `level` - Level of institution (4-year, 2-year)\n",
        "  - `aid_value` - The average amount of student aid going to undergraduate recipients\n",
        "  - `control` - Public, Private not-for-profit, Private for-profit\n",
        "  - `grad_100_value` - percentage of first-time, full-time, degree-seeking undergraduates who complete a degree or certificate program within 100 percent of expected time (bachelor's-seeking group at 4-year institutions)\n",
        "\n",
        "1. Load the `./data/college_completion.csv` data with Pandas.\n",
        "2. What are are the dimensions of the data? How many observations are there? What are the variables included? Use `.head()` to examine the first few rows of data.\n",
        "\n",
        "  **The dimensions of the data are 3798 x 63, therefore there are 3798 observations in the dataset. The variables included in the dataset are printed in a list from the code below.**\n",
        "\n",
        "3. Cross tabulate `control` and `level`. Describe the patterns you see.\n",
        "\n",
        "  **There are not significant differences between the number of 2 year private for-profit schools and public schools and 4 year private for-profit schools and public schools. But, there is a much greater amount of 4 year schools that are private not-for-profit than there are 2 year private not-for-profit schools.**\n",
        "\n",
        "4. For `grad_100_value`, create a histogram, kernel density plot, boxplot, and statistical description.\n",
        "\n",
        "  **Statistical Description for \"grad_100_value\":**\n",
        "\n",
        "  **Mode: 28.36446495529276**\n",
        "\n",
        "  **Median: 22.5**\n",
        "\n",
        "  **Mode: 0    0.0\n",
        "Name: grad_100_value, dtype: float64**\n",
        "\n",
        "  **.25 quantile: 9.0**\n",
        "\n",
        "  **.50 quantile: 22.5**\n",
        "\n",
        "  **.75 quantile: 43.650000000000006**\n",
        "\n",
        "  **Standard deviation: 23.312730042196648**\n",
        "\n",
        "5. For `grad_100_value`, create a grouped kernel density plot by `control` and by `level`. Describe what you see. Use `groupby` and `.describe` to make grouped calculations of statistical descriptions of `grad_100_value` by `level` and `control`. Which institutions appear to have the best graduation rates?\n",
        "6. Create a new variable, `df['levelXcontrol']=df['level']+', '+df['control']` that interacts level and control. Make a grouped kernel density plot. Which institutions appear to have the best graduation rates?\n",
        "7. Make a kernel density plot of `aid_value`. Notice that your graph is \"bi-modal\", having two little peaks that represent locally most common values. Now group your graph by `level` and `control`. What explains the bi-modal nature of the graph? Use `groupby` and `.describe` to make grouped calculations of statistical descriptions of `aid_value` by `level` and `control`.\n",
        "8. Make a scatterplot of `grad_100_value` by `aid_value`. Describe what you see. Now make the same plot, grouping by `level` and then `control`. Describe what you see. For which kinds of institutions does aid seem to increase graduation rates?"
      ]
    },
    {
      "cell_type": "code",
      "source": [
        "import numpy as np\n",
        "import pandas as pd\n",
        "import matplotlib.pyplot as plt\n",
        "\n",
        "df = pd.read_csv('./assignment2/data/college_completion.csv', low_memory=False) #1\n",
        "#2\n",
        "print(df.shape, '\\n') #Dimensions: 3798 x 63\n",
        "print(df.columns.tolist(), '\\n') #Variables included in the dataset\n",
        "print(df.head(), '\\n')\n",
        "#3\n",
        "print(pd.crosstab(df['control'], df['level']))\n",
        "#4\n",
        "var = 'grad_100_value'\n",
        "plt.figure()\n",
        "df[var].hist() #Creating a histogram\n",
        "plt.figure()\n",
        "df[var].plot.density() #Creating a Kernel Desnsity Plot\n",
        "plt.figure()\n",
        "df[var].plot.box() #Creating a boxplot\n",
        "print('Statistical Description for \"grad_100_value\": ')\n",
        "print('Mode:', df[var].mean(), '\\n' + 'Median:', df[var].median(), '\\n' + 'Mode:', df[var].mode())\n",
        "print('.25 quantile:', df[var].quantile(.25), '\\n' + '.50 quantile:', df[var].quantile(.50), '\\n' + '.75 quantile:', df[var].quantile(.75))\n",
        "print('Standard deviation:', df[var].std())\n"
      ],
      "metadata": {
        "id": "S9GJ1NAe7Jjd",
        "outputId": "6a3eeb2d-b705-4fc8-dcff-b36134a587d5",
        "colab": {
          "base_uri": "https://localhost:8080/",
          "height": 1000
        }
      },
      "id": "S9GJ1NAe7Jjd",
      "execution_count": 14,
      "outputs": [
        {
          "output_type": "stream",
          "name": "stdout",
          "text": [
            "(3798, 63) \n",
            "\n",
            "['index', 'unitid', 'chronname', 'city', 'state', 'level', 'control', 'basic', 'hbcu', 'flagship', 'long_x', 'lat_y', 'site', 'student_count', 'awards_per_value', 'awards_per_state_value', 'awards_per_natl_value', 'exp_award_value', 'exp_award_state_value', 'exp_award_natl_value', 'exp_award_percentile', 'ft_pct', 'fte_value', 'fte_percentile', 'med_sat_value', 'med_sat_percentile', 'aid_value', 'aid_percentile', 'endow_value', 'endow_percentile', 'grad_100_value', 'grad_100_percentile', 'grad_150_value', 'grad_150_percentile', 'pell_value', 'pell_percentile', 'retain_value', 'retain_percentile', 'ft_fac_value', 'ft_fac_percentile', 'vsa_year', 'vsa_grad_after4_first', 'vsa_grad_elsewhere_after4_first', 'vsa_enroll_after4_first', 'vsa_enroll_elsewhere_after4_first', 'vsa_grad_after6_first', 'vsa_grad_elsewhere_after6_first', 'vsa_enroll_after6_first', 'vsa_enroll_elsewhere_after6_first', 'vsa_grad_after4_transfer', 'vsa_grad_elsewhere_after4_transfer', 'vsa_enroll_after4_transfer', 'vsa_enroll_elsewhere_after4_transfer', 'vsa_grad_after6_transfer', 'vsa_grad_elsewhere_after6_transfer', 'vsa_enroll_after6_transfer', 'vsa_enroll_elsewhere_after6_transfer', 'similar', 'state_sector_ct', 'carnegie_ct', 'counted_pct', 'nicknames', 'cohort_size'] \n",
            "\n",
            "   index  unitid                            chronname        city    state  \\\n",
            "0      0  100654               Alabama A&M University      Normal  Alabama   \n",
            "1      1  100663  University of Alabama at Birmingham  Birmingham  Alabama   \n",
            "2      2  100690                   Amridge University  Montgomery  Alabama   \n",
            "3      3  100706  University of Alabama at Huntsville  Huntsville  Alabama   \n",
            "4      4  100724             Alabama State University  Montgomery  Alabama   \n",
            "\n",
            "    level                 control  \\\n",
            "0  4-year                  Public   \n",
            "1  4-year                  Public   \n",
            "2  4-year  Private not-for-profit   \n",
            "3  4-year                  Public   \n",
            "4  4-year                  Public   \n",
            "\n",
            "                                               basic hbcu flagship  ...  \\\n",
            "0  Masters Colleges and Universities--larger prog...    X      NaN  ...   \n",
            "1  Research Universities--very high research acti...  NaN      NaN  ...   \n",
            "2            Baccalaureate Colleges--Arts & Sciences  NaN      NaN  ...   \n",
            "3  Research Universities--very high research acti...  NaN      NaN  ...   \n",
            "4  Masters Colleges and Universities--larger prog...    X      NaN  ...   \n",
            "\n",
            "   vsa_grad_after6_transfer  vsa_grad_elsewhere_after6_transfer  \\\n",
            "0                      36.4                                 5.6   \n",
            "1                       NaN                                 NaN   \n",
            "2                       NaN                                 NaN   \n",
            "3                       0.0                                 0.0   \n",
            "4                       NaN                                 NaN   \n",
            "\n",
            "  vsa_enroll_after6_transfer  vsa_enroll_elsewhere_after6_transfer  \\\n",
            "0                       17.2                                  11.1   \n",
            "1                        NaN                                   NaN   \n",
            "2                        NaN                                   NaN   \n",
            "3                        0.0                                   0.0   \n",
            "4                        NaN                                   NaN   \n",
            "\n",
            "                                             similar  state_sector_ct  \\\n",
            "0  232937|100724|405997|113607|139533|144005|2285...               13   \n",
            "1  196060|180461|201885|145600|209542|236939|1268...               13   \n",
            "2  217925|441511|205124|247825|197647|221856|1353...               16   \n",
            "3  232186|133881|196103|196413|207388|171128|1900...               13   \n",
            "4  100654|232937|242617|243197|144005|241739|2354...               13   \n",
            "\n",
            "   carnegie_ct  counted_pct  nicknames  cohort_size  \n",
            "0          386      99.7|07        NaN        882.0  \n",
            "1          106      56.0|07        UAB       1376.0  \n",
            "2          252     100.0|07        NaN          3.0  \n",
            "3          106      43.1|07        UAH        759.0  \n",
            "4          386      88.0|07        ASU       1351.0  \n",
            "\n",
            "[5 rows x 63 columns] \n",
            "\n",
            "level                   2-year  4-year\n",
            "control                               \n",
            "Private for-profit         465     527\n",
            "Private not-for-profit      68    1180\n",
            "Public                     926     632\n",
            "Statistical Description for \"grad_100_value\": \n",
            "Mode: 28.36446495529276 \n",
            "Median: 22.5 \n",
            "Mode: 0    0.0\n",
            "Name: grad_100_value, dtype: float64\n",
            ".25 quantile: 9.0 \n",
            ".50 quantile: 22.5 \n",
            ".75 quantile: 43.650000000000006\n",
            "Standard deviation: 23.312730042196648\n"
          ]
        },
        {
          "output_type": "display_data",
          "data": {
            "text/plain": [
              "<Figure size 640x480 with 1 Axes>"
            ],
            "image/png": "[encoded data removed]"
          },
          "metadata": {}
        },
        {
          "output_type": "display_data",
          "data": {
            "text/plain": [
              "<Figure size 640x480 with 1 Axes>"
            ],
            "image/png": "[encoded data removed]"
          },
          "metadata": {}
        },
        {
          "output_type": "display_data",
          "data": {
            "text/plain": [
              "<Figure size 640x480 with 1 Axes>"
            ],
            "image/png": "[encoded data removed]"
          },
          "metadata": {}
        }
      ]
    },
    {
      "cell_type": "markdown",
      "id": "98d34a3b-c21d-4dc9-a8d2-fb7686804ceb",
      "metadata": {
        "id": "98d34a3b-c21d-4dc9-a8d2-fb7686804ceb"
      },
      "source": [
        "**Q4.** This question uses the Airbnb data to practice making visualizations.\n",
        "\n",
        "  1. Load the `./data/airbnb_hw.csv` data with Pandas. You should have cleaned the `Price` variable in question 2, and you'll need it later for this question.\n",
        "  2. What are are the dimensions of the data? How many observations are there? What are the variables included? Use `.head()` to examine the first few rows of data.\n",
        "  3. Cross tabulate `Room Type` and `Property Type`. What patterns do you see in what kinds of rentals are available? For which kinds of properties are private rooms more common than renting the entire property?\n",
        "  4. For `Price`, make a histogram, kernel density, box plot, and a statistical description of the variable. Are the data badly scaled? Are there many outliers? Use `log` to transform price into a new variable, `price_log`, and take these steps again.\n",
        "  5. Make a scatterplot of `price_log` and `Beds`. Describe what you see. Use `.groupby()` to compute a desciption of `Price` conditional on/grouped by the number of beds. Describe any patterns you see in the average price and standard deviation in prices.\n",
        "  6. Make a scatterplot of `price_log` and `Beds`, but color the graph by `Room Type` and `Property Type`. What patterns do you see? Compute a description of `Price` conditional on `Room Type` and `Property Type`. Which Room Type and Property Type have the highest prices on average? Which have the highest standard deviation? Does the mean or median appear to be a more reliable estimate of central tendency, and explain why?\n",
        "  7. We've looked a bit at this `price_log` and `Beds` scatterplot. Use seaborn to make a `jointplot` with `kind=hex`. Where are the data actually distributed? How does it affect the way you think about the plots in 5 and 6?"
      ]
    },
    {
      "cell_type": "markdown",
      "id": "649494cd-cfd6-4f80-992a-9994fc19e1d5",
      "metadata": {
        "id": "649494cd-cfd6-4f80-992a-9994fc19e1d5"
      },
      "source": [
        "**Q5.** Many important datasets contain a race variable, typically limited to a handful of values often including Black, White, Asian, Latino, and Indigenous. This question looks at data gathering efforts on this variable by the U.S. Federal government.\n",
        "\n",
        "1. How did the most recent US Census gather data on race?\n",
        "2. Why do we gather these data? What role do these kinds of data play in politics and society? Why does data quality matter?\n",
        "3. Please provide a constructive criticism of how the Census was conducted: What was done well? What do you think was missing? How should future large scale surveys be adjusted to best reflect the diversity of the population? Could some of the Census' good practices be adopted more widely to gather richer and more useful data?\n",
        "4. How did the Census gather data on sex and gender? Please provide a similar constructive criticism of their practices.\n",
        "5. When it comes to cleaning data, what concerns do you have about protected characteristics like sex, gender, sexual identity, or race? What challenges can you imagine arising when there are missing values? What good or bad practices might people adopt, and why?\n",
        "6. Suppose someone invented an algorithm to impute values for protected characteristics like race, gender, sex, or sexuality. What kinds of concerns would you have?"
      ]
    },
    {
      "cell_type": "markdown",
      "id": "2f38f2fd-6381-481d-bba9-017f3d363426",
      "metadata": {
        "id": "2f38f2fd-6381-481d-bba9-017f3d363426"
      },
      "source": [
        "**Q6.** Open the `./data/CBO_data.pdf` file. This contains tax data for 2019, explaining where the money comes from that the U.S. Federal Government Spends in terms of taxation on individuals/families and payroll taxes (the amount that your employer pays in taxes on your wages).\n",
        "\n",
        "For some context, the Federal government ultimately spent about $4.4 trillion in 2019, which was 21% of GDP (the total monetary value of all goods and services produced within the United States). Individual Income Taxes is the amount individuals pay on their wages to the Federal government, Corporate Income Taxes is the taxes individuals pay on capital gains from investment when they sell stock or other financial instruments, Payroll Taxes is the tax your employer pays on your wages, Excises and Customs Duties are taxes on goods or services like sin taxes on cigarettes or alcohol, and Estate and Gift Taxes are taxes paid on transfers of wealth to other people.\n",
        "\n",
        "1. Get the Millions of Families and Billions of Dollars data into a .csv file and load it with Pandas.\n",
        "2. Create a bar plot of individual income taxes by income decile. Explain what the graph shows. Why are some values negative?\n",
        "3. Create a bar plot of Total Federal Taxes by income decile. Which deciles are paying net positive amounts, and which are paying net negative amounts?\n",
        "4. Create a stacked bar plot for which Total Federal Taxes is grouped by Individual Income Taxes, Payroll Taxes, Excises and Customs Duties, and Estate and Gift Taxes. How does the share of taxes paid vary across the adjusted income deciles? (Hint: Are these the kind of data you want to melt?)\n",
        "5. Below the Total line for Millions of Families and Billions of Dollars, there are data for the richest of the richest families. Plot this alongside the bars for the deciles above the Total line. Describe your results.\n",
        "6. Get the Percent Distribution data into a .csv file and load it with Pandas. Create a bar graph of Total Federal Taxes by income decile.\n",
        "7. A tax system is progressive if higher-income and wealthier individuals pay more than lower-income and less wealthy individuals, and it is regressive if the opposite is true. Is the U.S. tax system progressive in terms of amount paid? In terms of the percentage of the overall total?\n",
        "8. Do the rich pay enough in taxes? Defend your answer."
      ]
    }
  ],
  "metadata": {
    "kernelspec": {
      "display_name": "Python 3 (ipykernel)",
      "language": "python",
      "name": "python3"
    },
    "language_info": {
      "codemirror_mode": {
        "name": "ipython",
        "version": 3
      },
      "file_extension": ".py",
      "mimetype": "text/x-python",
      "name": "python",
      "nbconvert_exporter": "python",
      "pygments_lexer": "ipython3",
      "version": "3.10.4"
    },
    "colab": {
      "provenance": []
    }
  },
  "nbformat": 4,
  "nbformat_minor": 5
}